{
 "cells": [
  {
   "cell_type": "code",
   "execution_count": 5,
   "id": "3c6923cf-df10-484d-ac10-166a8d7c98b7",
   "metadata": {},
   "outputs": [],
   "source": [
    "from vision_transformers import models\n",
    "from vision_transformers.utils.params import params"
   ]
  },
  {
   "cell_type": "code",
   "execution_count": 6,
   "id": "e0962640-97c5-4eee-af34-e554ca9f08c7",
   "metadata": {},
   "outputs": [
    {
     "name": "stdout",
     "output_type": "stream",
     "text": [
      "86,567,656 total parameters.\n",
      "86,567,656 training parameters.\n"
     ]
    }
   ],
   "source": [
    "vit_b_16 = models.vit_b_16()\n",
    "params(vit_b_16)"
   ]
  },
  {
   "cell_type": "code",
   "execution_count": 7,
   "id": "ee79fd97-126f-4aba-8b7e-603f83e8ce7d",
   "metadata": {},
   "outputs": [
    {
     "name": "stdout",
     "output_type": "stream",
     "text": [
      "86,567,656 total parameters.\n",
      "86,567,656 training parameters.\n"
     ]
    }
   ],
   "source": [
    "vit_b_16 = models.vit_b_16(num_classes=10)\n",
    "params(vit_b_16)"
   ]
  },
  {
   "cell_type": "code",
   "execution_count": null,
   "id": "8d834e5b-7b9d-4678-be0a-a945d65de08b",
   "metadata": {},
   "outputs": [],
   "source": []
  }
 ],
 "metadata": {
  "kernelspec": {
   "display_name": "Python 3 (ipykernel)",
   "language": "python",
   "name": "python3"
  },
  "language_info": {
   "codemirror_mode": {
    "name": "ipython",
    "version": 3
   },
   "file_extension": ".py",
   "mimetype": "text/x-python",
   "name": "python",
   "nbconvert_exporter": "python",
   "pygments_lexer": "ipython3",
   "version": "3.10.8"
  }
 },
 "nbformat": 4,
 "nbformat_minor": 5
}
