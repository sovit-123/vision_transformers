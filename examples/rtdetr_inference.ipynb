{
 "cells": [
  {
   "cell_type": "code",
   "execution_count": 2,
   "id": "9fb8ffa1-6aec-4fa1-a0b1-d63147302ddd",
   "metadata": {},
   "outputs": [],
   "source": [
    "from vision_transformers.detection.rtdetr.rtdetr import RTDETR"
   ]
  },
  {
   "cell_type": "code",
   "execution_count": 3,
   "id": "7a0eb282-c478-4d47-933c-3842fb447d52",
   "metadata": {},
   "outputs": [
    {
     "ename": "TypeError",
     "evalue": "RTDETR.__init__() missing 3 required positional arguments: 'backbone', 'encoder', and 'decoder'",
     "output_type": "error",
     "traceback": [
      "\u001b[0;31m---------------------------------------------------------------------------\u001b[0m",
      "\u001b[0;31mTypeError\u001b[0m                                 Traceback (most recent call last)",
      "Cell \u001b[0;32mIn[3], line 1\u001b[0m\n\u001b[0;32m----> 1\u001b[0m model \u001b[38;5;241m=\u001b[39m \u001b[43mRTDETR\u001b[49m\u001b[43m(\u001b[49m\u001b[43m)\u001b[49m\n",
      "\u001b[0;31mTypeError\u001b[0m: RTDETR.__init__() missing 3 required positional arguments: 'backbone', 'encoder', and 'decoder'"
     ]
    }
   ],
   "source": [
    "model = RTDETR()"
   ]
  },
  {
   "cell_type": "code",
   "execution_count": null,
   "id": "b3489224-2f8c-48fc-85d9-8626860dc1af",
   "metadata": {},
   "outputs": [],
   "source": []
  }
 ],
 "metadata": {
  "kernelspec": {
   "display_name": "Python 3 (ipykernel)",
   "language": "python",
   "name": "python3"
  },
  "language_info": {
   "codemirror_mode": {
    "name": "ipython",
    "version": 3
   },
   "file_extension": ".py",
   "mimetype": "text/x-python",
   "name": "python",
   "nbconvert_exporter": "python",
   "pygments_lexer": "ipython3",
   "version": "3.10.13"
  }
 },
 "nbformat": 4,
 "nbformat_minor": 5
}
